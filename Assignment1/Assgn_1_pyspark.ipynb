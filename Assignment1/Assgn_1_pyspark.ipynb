{
 "cells": [
  {
   "cell_type": "code",
   "execution_count": null,
   "metadata": {},
   "outputs": [],
   "source": [
    "from pyspark.sql import SparkSession\n",
    "from pyspark.sql import *\n",
    "from pyspark.mllib.stat import Statistics\n",
    "import pandas as pd\n",
    "import pingouin as pg\n",
    "import org.apache.spark.sql.{SaveMode,SparkSession}\n",
    "spark = SparkSession.builder.appName('assignment 1').getOrCreate()\n",
    "\n",
    "#read given csv file \n",
    "table2 = spark.read.csv('C:/Users/91738/Desktop/Assignment/nonConfidential.csv',header=True)\n",
    "#table2.repartition(1).write.mode('overwrite').parquet('C:/Users/91738/Desktop/Assignment/nonConfidential.parquet')\n",
    "#table2.show()\n",
    "\n",
    "\n",
    "#read given parquet file and write to csv\n",
    "df = spark.read.parquet('C:/Users/91738/Desktop/Assignment/confidential.snappy.parquet')\n",
    "df.write.csv('C:/Users/91738/Desktop/Assignment/confidential_new.csv')\n",
    "#df.show()\n",
    "\n",
    "#merge both csv files\n",
    "new_file=spark.read.format(\"csv\").option(\"header\", \"true\").load(\"C:/Users/91738/Desktop/Assignment/nonConfidential.csv\",\"C:/Users/91738/Desktop/Assignment/C:/Users/91738/Desktop/Assignment/confidential_new.csv\")\n",
    "new_file.printSchema()\n",
    "\n",
    "new_file.createOrReplaceTempView(\"new_table\")\n",
    "\n",
    "\n",
    "#using Spark SQL required query output is pushed into csv file in respective subdirectories of  /tmp/output directory\n",
    "#Number of LEED projects there in Virginia\n",
    "df1=spark.sql('select count(\"LEEDSystemVersionDisplayName\") from new_table where state=\"VA\"')\n",
    "df1.write.save(\"/tmp/output/LEED_projects_VA/query1_result.csv\")\n",
    "\n",
    "#Number of LEED projects in Virginia by owner type\n",
    "df2=spark.sql('select OwnerTypes,count(\"LEEDSystemVersionDisplayName\") as count_proj from new_table where state=\"VA\" groupby OwnerTypes')\n",
    "df2.write.save(\"/tmp/output/Num_LEED_projects/query2_result.csv\")\n",
    "\n",
    "\n",
    "#Total Gross Square Feet of building space that is LEED-certified in Virginia\n",
    "df3=spark.sql('select sum(\"GrossSqFoot\") as total_gross_sq_feet from new_table where state=\"VA\" and IsCertified=\"Yes\"')\n",
    "df3.write.save(\"/tmp/output/Gross_sqfeet_space/query3_result.csv\")\n",
    "\n",
    "#Zip Code in Virginia having high number of  projects\n",
    "df4=spark.sql('select TOP 1 Zipcode COUNT (*) AS zip_count from new_table where state=\"VA\" GROUP BY Zipcode ORDER BY zip_count DESC')\n",
    "df4.write.save(\"/tmp/output/Num_Project_Zip_code/query4_result.csv\")\n",
    "\n",
    "#significant difference (use a t-test) \n",
    "#merging two csv file using pandas \n",
    "t_test_df=pd.read_csv(\"C:/Users/91738/Desktop/Assignment/nonConfidential.csv\",\"C:/Users/91738/Desktop/Assignment/C:/Users/91738/Desktop/Assignment/confidential_new.csv\")\n",
    "\n",
    "virginia = t_test_df.query('grouping == \"VA\"')['PointsAchieved']\n",
    "california = t_test_df('grouping == \"CA\"')['PointsAchieved']\n",
    "\n",
    "res = pg.ttest(virginia, california, correction=False)\n",
    "df5=res.summary(0)\n",
    "df5.write.save(\"/tmp/output/Diff_CAnVI/query5_result.csv\")"
   ]
  }
 ],
 "metadata": {
  "kernelspec": {
   "display_name": "Python 3",
   "language": "python",
   "name": "python3"
  },
  "language_info": {
   "codemirror_mode": {
    "name": "ipython",
    "version": 3
   },
   "file_extension": ".py",
   "mimetype": "text/x-python",
   "name": "python",
   "nbconvert_exporter": "python",
   "pygments_lexer": "ipython3",
   "version": "3.8.3"
  }
 },
 "nbformat": 4,
 "nbformat_minor": 4
}
